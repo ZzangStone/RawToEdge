{
  "cells": [
    {
      "cell_type": "markdown",
      "metadata": {
        "id": "KzN0cc5nY-jY"
      },
      "source": [
        "## 결측치 제거(출,도착 좌표 존재하지 않는 경우)"
      ]
    },
    {
      "cell_type": "code",
      "execution_count": null,
      "metadata": {
        "colab": {
          "base_uri": "https://localhost:8080/"
        },
        "id": "3aL_z32EYxAs",
        "outputId": "bee7eba5-0aa8-4afb-9e84-013c0c6bc7a1"
      },
      "outputs": [
        {
          "name": "stdout",
          "output_type": "stream",
          "text": [
            "결측값이 있는 행이 제거되었으며, 결과는 input.csv에 저장되었습니다.\n"
          ]
        }
      ],
      "source": [
        "import pandas as pd\n",
        "\n",
        "# CSV 파일 읽기\n",
        "input_file = \"세종대_출도착_240530_국적추가.csv\"\n",
        "output_file = \"input.csv\"\n",
        "\n",
        "# CSV 파일 읽기 (UTF-8로 읽기)\n",
        "df = pd.read_csv(input_file, encoding='utf-8')\n",
        "\n",
        "# 결측값이 있는 행 삭제\n",
        "df_cleaned = df.dropna(subset=['출발X좌표', '출발Y좌표', '도착X좌표', '도착Y좌표'])\n",
        "\n",
        "# 새로운 파일로 저장 (UTF-8로 저장)\n",
        "df_cleaned.to_csv(output_file, index=False, encoding='utf-8-sig')\n",
        "\n",
        "print(f\"결측값이 있는 행이 제거되었으며, 결과는 {output_file}에 저장되었습니다.\")\n"
      ]
    },
    {
      "cell_type": "code",
      "execution_count": 31,
      "metadata": {
        "colab": {
          "base_uri": "https://localhost:8080/"
        },
        "id": "R9UEx52NuGYG",
        "outputId": "91833caa-61dd-4a1a-81c5-10ef1bf3acb1"
      },
      "outputs": [
        {
          "output_type": "stream",
          "name": "stderr",
          "text": [
            "<ipython-input-31-568728a1334c>:92: FutureWarning: The behavior of DataFrame concatenation with empty or all-NA entries is deprecated. In a future version, this will no longer exclude empty or all-NA columns when determining the result dtypes. To retain the old behavior, exclude the relevant entries before the concat operation.\n",
            "  output_df = pd.concat([output_df, new_row_df], ignore_index=True)\n"
          ]
        },
        {
          "output_type": "stream",
          "name": "stdout",
          "text": [
            "경로 데이터가 output.csv에 저장되었습니다.\n"
          ]
        }
      ],
      "source": [
        "import pandas as pd\n",
        "import requests\n",
        "import csv\n",
        "\n",
        "# OSRM 외부 API 주소\n",
        "osrm_url = \"http://router.project-osrm.org/route/v1/foot/\"\n",
        "\n",
        "# CSV 파일 경로\n",
        "input_file = \"input.csv\"  # 입력 파일 경로\n",
        "output_file = \"output.csv\"  # 출력 파일 경로\n",
        "\n",
        "# 경로 데이터를 저장할 리스트\n",
        "output_data = []\n",
        "\n",
        "# 입력 CSV 파일 읽기\n",
        "df = pd.read_csv(input_file, encoding='utf-8')\n",
        "\n",
        "# 출력 파일에 필요한 열 정의 ('내국인', '단기외국인', '장기외국인', 'MALE', 'FEMALE', '1' ~ '14' 추가)\n",
        "output_columns = ['일자', '출발시간', 'X좌표', 'Y좌표', '총 유동인구', '내국인', '단기외국인', '장기외국인', 'MALE', 'FEMALE'] + [str(i) for i in range(1, 15)]\n",
        "\n",
        "# 결과 저장용 DataFrame 생성\n",
        "output_df = pd.DataFrame(columns=output_columns)\n",
        "\n",
        "# 입력 데이터 처리\n",
        "for idx, row in df.iterrows():\n",
        "\n",
        "    # 좌표 설정\n",
        "    start_coords = f\"{row['출발X좌표']},{row['출발Y좌표']}\"\n",
        "    end_coords = f\"{row['도착X좌표']},{row['도착Y좌표']}\"\n",
        "\n",
        "    # OSRM API 호출\n",
        "    response = requests.get(f\"{osrm_url}{start_coords};{end_coords}?geometries=geojson\")\n",
        "\n",
        "    if response.status_code == 200:\n",
        "        data = response.json()\n",
        "\n",
        "        # 경로의 좌표들 추출\n",
        "        coordinates = data['routes'][0]['geometry']['coordinates']\n",
        "\n",
        "        # 각 좌표에 대해 '일자', '출발시간', 'X좌표', 'Y좌표', '총 유동인구', '내국인', '단기외국인', '장기외국인', 'MALE', 'FEMALE', '1' ~ '14' 처리\n",
        "        for coord in coordinates:\n",
        "            x, y = coord  # X좌표, Y좌표\n",
        "\n",
        "            # 해당 좌표와 일자, 출발시간이 이미 존재하는지 확인\n",
        "            existing_row = output_df[(output_df['X좌표'] == x) &\n",
        "                                     (output_df['Y좌표'] == y) &\n",
        "                                     (output_df['일자'] == row['일자']) &\n",
        "                                     (output_df['출발시간'] == row['출발시간'])]\n",
        "\n",
        "            if not existing_row.empty:\n",
        "                # 이미 있으면 '총 유동인구' 값 더하기\n",
        "                output_df.loc[existing_row.index, '총 유동인구'] += row['유동인구']\n",
        "\n",
        "                # 국적에 따라 '내국인', '단기외국인', '장기외국인' 값 더하기\n",
        "                if row['국적'] == '내국인':\n",
        "                    output_df.loc[existing_row.index, '내국인'] += row['유동인구']\n",
        "                elif row['국적'] == '단기외국인':\n",
        "                    output_df.loc[existing_row.index, '단기외국인'] += row['유동인구']\n",
        "                elif row['국적'] == '장기외국인':\n",
        "                    output_df.loc[existing_row.index, '장기외국인'] += row['유동인구']\n",
        "\n",
        "                # 성별에 따라 'MALE', 'FEMALE' 값 더하기\n",
        "                if row['성'] == 'MALE':\n",
        "                    output_df.loc[existing_row.index, 'MALE'] += row['유동인구']\n",
        "                elif row['성'] == 'FEMALE':\n",
        "                    output_df.loc[existing_row.index, 'FEMALE'] += row['유동인구']\n",
        "\n",
        "                # 연령에 따라 '1' ~ '14' 값 더하기\n",
        "                age_column = str(row['연령'])\n",
        "                if age_column in output_df.columns:\n",
        "                    output_df.loc[existing_row.index, age_column] += row['유동인구']\n",
        "            else:\n",
        "                # 새로운 좌표라면 '내국인', '단기외국인', '장기외국인', 'MALE', 'FEMALE', '1' ~ '14' 값 추가\n",
        "                new_row = {\n",
        "                    '일자': row['일자'],\n",
        "                    '출발시간': row['출발시간'],\n",
        "                    'X좌표': x,\n",
        "                    'Y좌표': y,\n",
        "                    '총 유동인구': row['유동인구'],\n",
        "                    '내국인': row['유동인구'] if row['국적'] == '내국인' else 0,\n",
        "                    '단기외국인': row['유동인구'] if row['국적'] == '단기외국인' else 0,\n",
        "                    '장기외국인': row['유동인구'] if row['국적'] == '장기외국인' else 0,\n",
        "                    'MALE': row['유동인구'] if row['성'] == 'MALE' else 0,\n",
        "                    'FEMALE': row['유동인구'] if row['성'] == 'FEMALE' else 0,\n",
        "                }\n",
        "\n",
        "                # 연령에 맞는 열을 초기화\n",
        "                for i in range(1, 15):\n",
        "                    new_row[str(i)] = row['유동인구'] if row['연령'] == i else 0\n",
        "\n",
        "                new_row_df = pd.DataFrame(new_row, index=[0])\n",
        "                output_df = pd.concat([output_df, new_row_df], ignore_index=True)\n",
        "\n",
        "# 중복처리 후 결과를 CSV 파일로 저장\n",
        "output_df.to_csv(output_file, index=False, encoding='utf-8-sig')\n",
        "\n",
        "print(f\"경로 데이터가 {output_file}에 저장되었습니다.\")\n"
      ]
    },
    {
      "cell_type": "code",
      "execution_count": null,
      "metadata": {
        "id": "AhApu8L4uN7m"
      },
      "outputs": [],
      "source": []
    }
  ],
  "metadata": {
    "colab": {
      "provenance": []
    },
    "kernelspec": {
      "display_name": "Python 3",
      "name": "python3"
    },
    "language_info": {
      "name": "python"
    }
  },
  "nbformat": 4,
  "nbformat_minor": 0
}